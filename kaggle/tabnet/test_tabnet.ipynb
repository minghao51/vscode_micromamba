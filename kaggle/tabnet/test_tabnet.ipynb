{
 "cells": [
  {
   "cell_type": "code",
   "execution_count": 1,
   "metadata": {},
   "outputs": [
    {
     "data": {
      "text/plain": [
       "True"
      ]
     },
     "execution_count": 1,
     "metadata": {},
     "output_type": "execute_result"
    }
   ],
   "source": [
    "import torch\n",
    "torch.cuda.is_available()"
   ]
  },
  {
   "cell_type": "code",
   "execution_count": 2,
   "metadata": {},
   "outputs": [],
   "source": [
    "from pytorch_tabnet.tab_model import TabNetClassifier\n",
    "\n",
    "import torch\n",
    "from sklearn.preprocessing import LabelEncoder\n",
    "from sklearn.metrics import accuracy_score\n",
    "from sklearn.model_selection import train_test_split\n",
    "import pandas as pd\n",
    "import numpy as np\n",
    "np.random.seed(0)\n",
    "\n",
    "\n",
    "import os\n",
    "import wget\n",
    "from pathlib import Path\n",
    "import shutil\n",
    "import gzip\n",
    "\n",
    "from matplotlib import pyplot as plt\n",
    "%matplotlib inline"
   ]
  },
  {
   "cell_type": "code",
   "execution_count": 3,
   "metadata": {},
   "outputs": [],
   "source": [
    "url = \"https://archive.ics.uci.edu/ml/machine-learning-databases/covtype/covtype.data.gz\"\n",
    "dataset_name = 'forest-cover-type'\n",
    "tmp_out = Path('./data/'+dataset_name+'.gz')\n",
    "out = Path(os.getcwd()+'/data/'+dataset_name+'.csv')"
   ]
  },
  {
   "cell_type": "code",
   "execution_count": 4,
   "metadata": {},
   "outputs": [
    {
     "name": "stdout",
     "output_type": "stream",
     "text": [
      "File already exists.\n"
     ]
    }
   ],
   "source": [
    "out.parent.mkdir(parents=True, exist_ok=True)\n",
    "if out.exists():\n",
    "    print(\"File already exists.\")\n",
    "else:\n",
    "    print(\"Downloading file...\")\n",
    "    wget.download(url, tmp_out.as_posix())\n",
    "    with gzip.open(tmp_out, 'rb') as f_in:\n",
    "        with open(out, 'wb') as f_out:\n",
    "            shutil.copyfileobj(f_in, f_out)"
   ]
  },
  {
   "cell_type": "code",
   "execution_count": 5,
   "metadata": {},
   "outputs": [],
   "source": [
    "target = \"Covertype\"\n",
    "\n",
    "bool_columns = [\n",
    "    \"Wilderness_Area1\", \"Wilderness_Area2\", \"Wilderness_Area3\",\n",
    "    \"Wilderness_Area4\", \"Soil_Type1\", \"Soil_Type2\", \"Soil_Type3\", \"Soil_Type4\",\n",
    "    \"Soil_Type5\", \"Soil_Type6\", \"Soil_Type7\", \"Soil_Type8\", \"Soil_Type9\",\n",
    "    \"Soil_Type10\", \"Soil_Type11\", \"Soil_Type12\", \"Soil_Type13\", \"Soil_Type14\",\n",
    "    \"Soil_Type15\", \"Soil_Type16\", \"Soil_Type17\", \"Soil_Type18\", \"Soil_Type19\",\n",
    "    \"Soil_Type20\", \"Soil_Type21\", \"Soil_Type22\", \"Soil_Type23\", \"Soil_Type24\",\n",
    "    \"Soil_Type25\", \"Soil_Type26\", \"Soil_Type27\", \"Soil_Type28\", \"Soil_Type29\",\n",
    "    \"Soil_Type30\", \"Soil_Type31\", \"Soil_Type32\", \"Soil_Type33\", \"Soil_Type34\",\n",
    "    \"Soil_Type35\", \"Soil_Type36\", \"Soil_Type37\", \"Soil_Type38\", \"Soil_Type39\",\n",
    "    \"Soil_Type40\"\n",
    "]\n",
    "\n",
    "int_columns = [\n",
    "    \"Elevation\", \"Aspect\", \"Slope\", \"Horizontal_Distance_To_Hydrology\",\n",
    "    \"Vertical_Distance_To_Hydrology\", \"Horizontal_Distance_To_Roadways\",\n",
    "    \"Hillshade_9am\", \"Hillshade_Noon\", \"Hillshade_3pm\",\n",
    "    \"Horizontal_Distance_To_Fire_Points\"\n",
    "]\n",
    "\n",
    "feature_columns = (\n",
    "    int_columns + bool_columns + [target])"
   ]
  },
  {
   "cell_type": "code",
   "execution_count": 6,
   "metadata": {},
   "outputs": [],
   "source": [
    "train = pd.read_csv(out, header=None, names=feature_columns)\n",
    "\n",
    "n_total = len(train)\n",
    "\n",
    "# Train, val and test split follows\n",
    "# Rory Mitchell, Andrey Adinets, Thejaswi Rao, and Eibe Frank.\n",
    "# Xgboost: Scalable GPU accelerated learning. arXiv:1806.11248, 2018.\n",
    "\n",
    "train_val_indices, test_indices = train_test_split(\n",
    "    range(n_total), test_size=0.2, random_state=0)\n",
    "train_indices, valid_indices = train_test_split(\n",
    "    train_val_indices, test_size=0.2 / 0.6, random_state=0)"
   ]
  },
  {
   "attachments": {},
   "cell_type": "markdown",
   "metadata": {},
   "source": [
    "# Simple preprocessing\n",
    "Label encode categorical features and fill empty cells."
   ]
  },
  {
   "cell_type": "code",
   "execution_count": 7,
   "metadata": {},
   "outputs": [],
   "source": [
    "categorical_columns = []\n",
    "categorical_dims =  {}\n",
    "for col in train.columns[train.dtypes == object]:\n",
    "    print(col, train[col].nunique())\n",
    "    l_enc = LabelEncoder()\n",
    "    train[col] = train[col].fillna(\"VV_likely\")\n",
    "    train[col] = l_enc.fit_transform(train[col].values)\n",
    "    categorical_columns.append(col)\n",
    "    categorical_dims[col] = len(l_enc.classes_)\n",
    "\n",
    "for col in train.columns[train.dtypes == 'float64']:\n",
    "    train.fillna(train.loc[train_indices, col].mean(), inplace=True)"
   ]
  },
  {
   "attachments": {},
   "cell_type": "markdown",
   "metadata": {},
   "source": [
    "# Define categorical features for categorical embeddings"
   ]
  },
  {
   "cell_type": "code",
   "execution_count": 8,
   "metadata": {},
   "outputs": [],
   "source": [
    "# This is a generic pipeline but actually no categorical features are available for this dataset\n",
    "\n",
    "unused_feat = []\n",
    "\n",
    "features = [ col for col in train.columns if col not in unused_feat+[target]] \n",
    "\n",
    "cat_idxs = [ i for i, f in enumerate(features) if f in categorical_columns]\n",
    "\n",
    "cat_dims = [ categorical_dims[f] for i, f in enumerate(features) if f in categorical_columns]"
   ]
  },
  {
   "attachments": {},
   "cell_type": "markdown",
   "metadata": {},
   "source": [
    "# Network parameters"
   ]
  },
  {
   "cell_type": "code",
   "execution_count": 9,
   "metadata": {},
   "outputs": [
    {
     "name": "stderr",
     "output_type": "stream",
     "text": [
      "/home/howt51/work/vscode_micromamba/kaggle/tabnet/.micromamba/envs/tabnet/lib/python3.11/site-packages/pytorch_tabnet/abstract_model.py:75: UserWarning: Device used : cuda\n",
      "  warnings.warn(f\"Device used : {self.device}\")\n"
     ]
    }
   ],
   "source": [
    "clf = TabNetClassifier(\n",
    "    n_d=64, n_a=64, n_steps=5,\n",
    "    gamma=1.5, n_independent=2, n_shared=2,\n",
    "    cat_idxs=cat_idxs,\n",
    "    cat_dims=cat_dims,\n",
    "    cat_emb_dim=1,\n",
    "    lambda_sparse=1e-4, momentum=0.3, clip_value=2.,\n",
    "    optimizer_fn=torch.optim.Adam,\n",
    "    optimizer_params=dict(lr=2e-2),\n",
    "    scheduler_params = {\"gamma\": 0.95,\n",
    "                     \"step_size\": 20},\n",
    "    scheduler_fn=torch.optim.lr_scheduler.StepLR, epsilon=1e-15\n",
    ")"
   ]
  },
  {
   "attachments": {},
   "cell_type": "markdown",
   "metadata": {},
   "source": [
    "# Training"
   ]
  },
  {
   "cell_type": "code",
   "execution_count": 10,
   "metadata": {},
   "outputs": [],
   "source": [
    "if os.getenv(\"CI\", False):\n",
    "# Take only a subsample to run CI\n",
    "    X_train = train[features].values[train_indices][:1000,:]\n",
    "    y_train = train[target].values[train_indices][:1000]\n",
    "else:\n",
    "    X_train = train[features].values[train_indices]\n",
    "    y_train = train[target].values[train_indices]\n",
    "\n",
    "X_valid = train[features].values[valid_indices]\n",
    "y_valid = train[target].values[valid_indices]\n",
    "\n",
    "X_test = train[features].values[test_indices]\n",
    "y_test = train[target].values[test_indices]"
   ]
  },
  {
   "cell_type": "code",
   "execution_count": 11,
   "metadata": {},
   "outputs": [],
   "source": [
    "max_epochs = 100 if not os.getenv(\"CI\", False) else 2"
   ]
  },
  {
   "cell_type": "code",
   "execution_count": 12,
   "metadata": {},
   "outputs": [
    {
     "name": "stdout",
     "output_type": "stream",
     "text": [
      "epoch 0  | loss: 1.30075 | train_accuracy: 0.48508 | valid_accuracy: 0.48391 |  0:00:14s\n",
      "epoch 1  | loss: 0.87356 | train_accuracy: 0.52122 | valid_accuracy: 0.51844 |  0:00:28s\n",
      "epoch 2  | loss: 0.79487 | train_accuracy: 0.53649 | valid_accuracy: 0.53575 |  0:00:41s\n",
      "epoch 3  | loss: 0.758   | train_accuracy: 0.54351 | valid_accuracy: 0.54227 |  0:00:55s\n",
      "epoch 4  | loss: 0.72465 | train_accuracy: 0.51361 | valid_accuracy: 0.51205 |  0:01:08s\n",
      "epoch 5  | loss: 0.69552 | train_accuracy: 0.46169 | valid_accuracy: 0.45988 |  0:01:22s\n",
      "epoch 6  | loss: 0.67164 | train_accuracy: 0.43792 | valid_accuracy: 0.4364  |  0:01:36s\n",
      "epoch 7  | loss: 0.64279 | train_accuracy: 0.46634 | valid_accuracy: 0.46699 |  0:01:49s\n",
      "epoch 8  | loss: 0.62414 | train_accuracy: 0.46652 | valid_accuracy: 0.46587 |  0:02:03s\n",
      "epoch 9  | loss: 0.60913 | train_accuracy: 0.50761 | valid_accuracy: 0.50703 |  0:02:16s\n",
      "epoch 10 | loss: 0.60374 | train_accuracy: 0.52708 | valid_accuracy: 0.52529 |  0:02:30s\n",
      "epoch 11 | loss: 0.60651 | train_accuracy: 0.51376 | valid_accuracy: 0.51313 |  0:02:44s\n",
      "epoch 12 | loss: 0.58614 | train_accuracy: 0.55452 | valid_accuracy: 0.55414 |  0:03:01s\n",
      "epoch 13 | loss: 0.57418 | train_accuracy: 0.58842 | valid_accuracy: 0.58837 |  0:03:15s\n",
      "epoch 14 | loss: 0.5671  | train_accuracy: 0.61241 | valid_accuracy: 0.61071 |  0:03:29s\n",
      "epoch 15 | loss: 0.55978 | train_accuracy: 0.64049 | valid_accuracy: 0.63952 |  0:03:47s\n",
      "epoch 16 | loss: 0.54921 | train_accuracy: 0.67021 | valid_accuracy: 0.66939 |  0:04:03s\n",
      "epoch 17 | loss: 0.53548 | train_accuracy: 0.69529 | valid_accuracy: 0.69392 |  0:04:19s\n",
      "epoch 18 | loss: 0.52646 | train_accuracy: 0.69829 | valid_accuracy: 0.69899 |  0:04:34s\n",
      "epoch 19 | loss: 0.51458 | train_accuracy: 0.71947 | valid_accuracy: 0.71888 |  0:04:48s\n",
      "epoch 20 | loss: 0.50908 | train_accuracy: 0.72682 | valid_accuracy: 0.72668 |  0:05:03s\n",
      "epoch 21 | loss: 0.50237 | train_accuracy: 0.74377 | valid_accuracy: 0.74275 |  0:05:18s\n",
      "epoch 22 | loss: 0.4933  | train_accuracy: 0.77279 | valid_accuracy: 0.77176 |  0:05:33s\n",
      "epoch 23 | loss: 0.48327 | train_accuracy: 0.77112 | valid_accuracy: 0.76802 |  0:05:48s\n",
      "epoch 24 | loss: 0.4788  | train_accuracy: 0.78841 | valid_accuracy: 0.78615 |  0:06:03s\n",
      "epoch 25 | loss: 0.47002 | train_accuracy: 0.79066 | valid_accuracy: 0.78877 |  0:06:17s\n",
      "epoch 26 | loss: 0.46558 | train_accuracy: 0.80051 | valid_accuracy: 0.79731 |  0:06:32s\n",
      "epoch 27 | loss: 0.46205 | train_accuracy: 0.80485 | valid_accuracy: 0.80307 |  0:06:46s\n",
      "epoch 28 | loss: 0.45441 | train_accuracy: 0.80527 | valid_accuracy: 0.80244 |  0:07:01s\n",
      "epoch 29 | loss: 0.4805  | train_accuracy: 0.80718 | valid_accuracy: 0.80607 |  0:07:15s\n",
      "epoch 30 | loss: 0.46232 | train_accuracy: 0.79662 | valid_accuracy: 0.79343 |  0:07:29s\n",
      "epoch 31 | loss: 0.45859 | train_accuracy: 0.81782 | valid_accuracy: 0.81565 |  0:07:43s\n",
      "epoch 32 | loss: 0.43912 | train_accuracy: 0.81421 | valid_accuracy: 0.8117  |  0:07:57s\n",
      "epoch 33 | loss: 0.45709 | train_accuracy: 0.8191  | valid_accuracy: 0.81516 |  0:08:11s\n",
      "epoch 34 | loss: 0.4434  | train_accuracy: 0.82107 | valid_accuracy: 0.81614 |  0:08:25s\n",
      "epoch 35 | loss: 0.47662 | train_accuracy: 0.79385 | valid_accuracy: 0.78758 |  0:08:39s\n",
      "epoch 36 | loss: 0.50329 | train_accuracy: 0.79442 | valid_accuracy: 0.7917  |  0:08:53s\n",
      "epoch 37 | loss: 0.48008 | train_accuracy: 0.80162 | valid_accuracy: 0.79822 |  0:09:08s\n",
      "epoch 38 | loss: 0.47465 | train_accuracy: 0.81951 | valid_accuracy: 0.81647 |  0:09:24s\n",
      "epoch 39 | loss: 0.44417 | train_accuracy: 0.83041 | valid_accuracy: 0.82667 |  0:09:41s\n",
      "epoch 40 | loss: 0.41771 | train_accuracy: 0.83918 | valid_accuracy: 0.83489 |  0:09:57s\n",
      "epoch 41 | loss: 0.40713 | train_accuracy: 0.84272 | valid_accuracy: 0.83802 |  0:10:12s\n",
      "epoch 42 | loss: 0.39572 | train_accuracy: 0.84755 | valid_accuracy: 0.84407 |  0:10:27s\n",
      "epoch 43 | loss: 0.38352 | train_accuracy: 0.85504 | valid_accuracy: 0.85083 |  0:10:42s\n",
      "epoch 44 | loss: 0.37117 | train_accuracy: 0.86051 | valid_accuracy: 0.85584 |  0:10:57s\n",
      "epoch 45 | loss: 0.35984 | train_accuracy: 0.86453 | valid_accuracy: 0.85925 |  0:11:11s\n",
      "epoch 46 | loss: 0.35781 | train_accuracy: 0.86749 | valid_accuracy: 0.86235 |  0:11:26s\n",
      "epoch 47 | loss: 0.34595 | train_accuracy: 0.87097 | valid_accuracy: 0.86458 |  0:11:41s\n",
      "epoch 48 | loss: 0.34309 | train_accuracy: 0.87101 | valid_accuracy: 0.86527 |  0:11:56s\n",
      "epoch 49 | loss: 0.33365 | train_accuracy: 0.87312 | valid_accuracy: 0.86842 |  0:12:10s\n",
      "epoch 50 | loss: 0.32948 | train_accuracy: 0.87916 | valid_accuracy: 0.87373 |  0:12:23s\n",
      "epoch 51 | loss: 0.32779 | train_accuracy: 0.87481 | valid_accuracy: 0.86997 |  0:12:37s\n",
      "epoch 52 | loss: 0.32618 | train_accuracy: 0.87779 | valid_accuracy: 0.87265 |  0:12:51s\n",
      "epoch 53 | loss: 0.31365 | train_accuracy: 0.88559 | valid_accuracy: 0.87967 |  0:13:04s\n",
      "epoch 54 | loss: 0.30097 | train_accuracy: 0.88826 | valid_accuracy: 0.88196 |  0:13:18s\n",
      "epoch 55 | loss: 0.29858 | train_accuracy: 0.88885 | valid_accuracy: 0.88041 |  0:13:32s\n",
      "epoch 56 | loss: 0.30897 | train_accuracy: 0.88387 | valid_accuracy: 0.87771 |  0:13:46s\n",
      "epoch 57 | loss: 0.31401 | train_accuracy: 0.88672 | valid_accuracy: 0.88025 |  0:13:58s\n",
      "epoch 58 | loss: 0.30299 | train_accuracy: 0.89149 | valid_accuracy: 0.88438 |  0:14:11s\n",
      "epoch 59 | loss: 0.31036 | train_accuracy: 0.89031 | valid_accuracy: 0.88339 |  0:14:24s\n",
      "epoch 60 | loss: 0.29221 | train_accuracy: 0.89843 | valid_accuracy: 0.89029 |  0:14:37s\n",
      "epoch 61 | loss: 0.28621 | train_accuracy: 0.89895 | valid_accuracy: 0.8913  |  0:14:50s\n",
      "epoch 62 | loss: 0.27529 | train_accuracy: 0.90507 | valid_accuracy: 0.89644 |  0:15:02s\n",
      "epoch 63 | loss: 0.32749 | train_accuracy: 0.86679 | valid_accuracy: 0.86005 |  0:15:14s\n",
      "epoch 64 | loss: 0.33437 | train_accuracy: 0.89067 | valid_accuracy: 0.88429 |  0:15:27s\n",
      "epoch 65 | loss: 0.29066 | train_accuracy: 0.89988 | valid_accuracy: 0.89276 |  0:15:40s\n",
      "epoch 66 | loss: 0.26916 | train_accuracy: 0.90615 | valid_accuracy: 0.89808 |  0:15:53s\n",
      "epoch 67 | loss: 0.26339 | train_accuracy: 0.90734 | valid_accuracy: 0.89876 |  0:16:05s\n",
      "epoch 68 | loss: 0.25798 | train_accuracy: 0.90832 | valid_accuracy: 0.90091 |  0:16:19s\n",
      "epoch 69 | loss: 0.25149 | train_accuracy: 0.91131 | valid_accuracy: 0.9036  |  0:16:32s\n",
      "epoch 70 | loss: 0.24697 | train_accuracy: 0.91623 | valid_accuracy: 0.90655 |  0:16:46s\n",
      "epoch 71 | loss: 0.24636 | train_accuracy: 0.90924 | valid_accuracy: 0.90076 |  0:16:59s\n",
      "epoch 72 | loss: 0.25554 | train_accuracy: 0.91289 | valid_accuracy: 0.90472 |  0:17:11s\n",
      "epoch 73 | loss: 0.24177 | train_accuracy: 0.91416 | valid_accuracy: 0.90597 |  0:17:24s\n",
      "epoch 74 | loss: 0.26044 | train_accuracy: 0.88047 | valid_accuracy: 0.87266 |  0:17:38s\n",
      "epoch 75 | loss: 0.31092 | train_accuracy: 0.89711 | valid_accuracy: 0.89016 |  0:17:51s\n",
      "epoch 76 | loss: 0.26854 | train_accuracy: 0.91115 | valid_accuracy: 0.90292 |  0:18:04s\n",
      "epoch 77 | loss: 0.24842 | train_accuracy: 0.91659 | valid_accuracy: 0.90727 |  0:18:17s\n",
      "epoch 78 | loss: 0.25089 | train_accuracy: 0.91399 | valid_accuracy: 0.90605 |  0:18:30s\n",
      "epoch 79 | loss: 0.24256 | train_accuracy: 0.91946 | valid_accuracy: 0.91102 |  0:18:44s\n",
      "epoch 80 | loss: 0.2324  | train_accuracy: 0.9225  | valid_accuracy: 0.91273 |  0:18:57s\n",
      "epoch 81 | loss: 0.23496 | train_accuracy: 0.9197  | valid_accuracy: 0.91102 |  0:19:10s\n",
      "epoch 82 | loss: 0.2258  | train_accuracy: 0.92275 | valid_accuracy: 0.91276 |  0:19:23s\n",
      "epoch 83 | loss: 0.22435 | train_accuracy: 0.92435 | valid_accuracy: 0.91422 |  0:19:35s\n",
      "epoch 84 | loss: 0.22028 | train_accuracy: 0.92563 | valid_accuracy: 0.91498 |  0:19:47s\n",
      "epoch 85 | loss: 0.22096 | train_accuracy: 0.92895 | valid_accuracy: 0.91961 |  0:20:00s\n",
      "epoch 86 | loss: 0.21441 | train_accuracy: 0.92876 | valid_accuracy: 0.91947 |  0:20:13s\n",
      "epoch 87 | loss: 0.20904 | train_accuracy: 0.9295  | valid_accuracy: 0.9199  |  0:20:26s\n",
      "epoch 88 | loss: 0.20528 | train_accuracy: 0.93127 | valid_accuracy: 0.9212  |  0:20:39s\n",
      "epoch 89 | loss: 0.20846 | train_accuracy: 0.92591 | valid_accuracy: 0.9167  |  0:20:51s\n",
      "epoch 90 | loss: 0.21267 | train_accuracy: 0.93032 | valid_accuracy: 0.91967 |  0:21:04s\n",
      "epoch 91 | loss: 0.20354 | train_accuracy: 0.93205 | valid_accuracy: 0.92145 |  0:21:17s\n",
      "epoch 92 | loss: 0.19915 | train_accuracy: 0.93419 | valid_accuracy: 0.92356 |  0:21:30s\n",
      "epoch 93 | loss: 0.20451 | train_accuracy: 0.93522 | valid_accuracy: 0.92498 |  0:21:43s\n",
      "epoch 94 | loss: 0.19416 | train_accuracy: 0.93693 | valid_accuracy: 0.92652 |  0:21:56s\n",
      "epoch 95 | loss: 0.21431 | train_accuracy: 0.92888 | valid_accuracy: 0.91822 |  0:22:08s\n",
      "epoch 96 | loss: 0.20446 | train_accuracy: 0.93675 | valid_accuracy: 0.92582 |  0:22:21s\n",
      "epoch 97 | loss: 0.19422 | train_accuracy: 0.93814 | valid_accuracy: 0.92798 |  0:22:34s\n",
      "epoch 98 | loss: 0.19022 | train_accuracy: 0.93578 | valid_accuracy: 0.92476 |  0:22:46s\n",
      "epoch 99 | loss: 0.18817 | train_accuracy: 0.93822 | valid_accuracy: 0.9274  |  0:22:59s\n",
      "Stop training because you reached max_epochs = 100 with best_epoch = 97 and best_valid_accuracy = 0.92798\n"
     ]
    },
    {
     "name": "stderr",
     "output_type": "stream",
     "text": [
      "/home/howt51/work/vscode_micromamba/kaggle/tabnet/.micromamba/envs/tabnet/lib/python3.11/site-packages/pytorch_tabnet/callbacks.py:172: UserWarning: Best weights from best epoch are automatically used!\n",
      "  warnings.warn(wrn_msg)\n"
     ]
    }
   ],
   "source": [
    "# from pytorch_tabnet.augmentations import ClassificationSMOTE\n",
    "# aug = ClassificationSMOTE(p=0.2)\n",
    "\n",
    "clf.fit(\n",
    "    X_train=X_train, y_train=y_train,\n",
    "    eval_set=[(X_train, y_train), (X_valid, y_valid)],\n",
    "    eval_name=['train', 'valid'],\n",
    "    max_epochs=max_epochs, patience=100,\n",
    "    batch_size=16384, virtual_batch_size=256,\n",
    "    # augmentations=aug\n",
    ") "
   ]
  },
  {
   "cell_type": "code",
   "execution_count": 13,
   "metadata": {},
   "outputs": [
    {
     "data": {
      "text/plain": [
       "[<matplotlib.lines.Line2D at 0x7f06dc28dc90>]"
      ]
     },
     "execution_count": 13,
     "metadata": {},
     "output_type": "execute_result"
    },
    {
     "data": {
      "image/png": "[encoded data removed]",
      "text/plain": [
       "<Figure size 640x480 with 1 Axes>"
      ]
     },
     "metadata": {},
     "output_type": "display_data"
    }
   ],
   "source": [
    "# plot losses\n",
    "plt.plot(clf.history['loss'])"
   ]
  },
  {
   "cell_type": "code",
   "execution_count": 14,
   "metadata": {},
   "outputs": [
    {
     "data": {
      "text/plain": [
       "[<matplotlib.lines.Line2D at 0x7f06d5b64b50>]"
      ]
     },
     "execution_count": 14,
     "metadata": {},
     "output_type": "execute_result"
    },
    {
     "data": {
      "image/png": "[encoded data removed]",
      "text/plain": [
       "<Figure size 640x480 with 1 Axes>"
      ]
     },
     "metadata": {},
     "output_type": "display_data"
    }
   ],
   "source": [
    "# plot accuracy\n",
    "plt.plot(clf.history['train_accuracy'])\n",
    "plt.plot(clf.history['valid_accuracy'])"
   ]
  },
  {
   "attachments": {},
   "cell_type": "markdown",
   "metadata": {},
   "source": [
    "# Predictions"
   ]
  },
  {
   "cell_type": "code",
   "execution_count": 15,
   "metadata": {},
   "outputs": [
    {
     "name": "stdout",
     "output_type": "stream",
     "text": [
      "BEST VALID SCORE FOR forest-cover-type : 0.9279836320569006\n",
      "FINAL TEST SCORE FOR forest-cover-type : 0.9290207653847147\n"
     ]
    }
   ],
   "source": [
    "# To get final results you may need to use a mapping for classes \n",
    "# as you are allowed to use targets like [\"yes\", \"no\", \"maybe\", \"I don't know\"]\n",
    "\n",
    "preds_mapper = { idx : class_name for idx, class_name in enumerate(clf.classes_)}\n",
    "\n",
    "preds = clf.predict_proba(X_test)\n",
    "\n",
    "y_pred = np.vectorize(preds_mapper.get)(np.argmax(preds, axis=1))\n",
    "\n",
    "test_acc = accuracy_score(y_pred=y_pred, y_true=y_test)\n",
    "\n",
    "print(f\"BEST VALID SCORE FOR {dataset_name} : {clf.best_cost}\")\n",
    "print(f\"FINAL TEST SCORE FOR {dataset_name} : {test_acc}\")"
   ]
  },
  {
   "cell_type": "code",
   "execution_count": 16,
   "metadata": {},
   "outputs": [
    {
     "name": "stdout",
     "output_type": "stream",
     "text": [
      "FINAL TEST SCORE FOR forest-cover-type : 0.9290207653847147\n"
     ]
    }
   ],
   "source": [
    "# or you can simply use the predict method\n",
    "\n",
    "y_pred = clf.predict(X_test)\n",
    "test_acc = accuracy_score(y_pred=y_pred, y_true=y_test)\n",
    "print(f\"FINAL TEST SCORE FOR {dataset_name} : {test_acc}\")"
   ]
  },
  {
   "cell_type": "code",
   "execution_count": null,
   "metadata": {},
   "outputs": [],
   "source": []
  }
 ],
 "metadata": {
  "kernelspec": {
   "display_name": "Python 3",
   "language": "python",
   "name": "python3"
  },
  "language_info": {
   "codemirror_mode": {
    "name": "ipython",
    "version": 3
   },
   "file_extension": ".py",
   "mimetype": "text/x-python",
   "name": "python",
   "nbconvert_exporter": "python",
   "pygments_lexer": "ipython3",
   "version": "3.11.4"
  },
  "orig_nbformat": 4
 },
 "nbformat": 4,
 "nbformat_minor": 2
}
