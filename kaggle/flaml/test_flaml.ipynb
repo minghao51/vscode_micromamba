{
 "cells": [
  {
   "cell_type": "code",
   "execution_count": 2,
   "metadata": {},
   "outputs": [
    {
     "name": "stdout",
     "output_type": "stream",
     "text": [
      "download dataset from openml\n"
     ]
    },
    {
     "name": "stderr",
     "output_type": "stream",
     "text": [
      "/home/howt51/work/vscode_micromamba/kaggle/flaml/.micromamba/envs/flaml/lib/python3.11/site-packages/openml/datasets/functions.py:437: FutureWarning: Starting from Version 0.15 `download_data`, `download_qualities`, and `download_features_meta_data` will all be ``False`` instead of ``True`` by default to enable lazy loading. To disable this message until version 0.15 explicitly set `download_data`, `download_qualities`, and `download_features_meta_data` to a bool while calling `get_dataset`.\n",
      "  warnings.warn(\n"
     ]
    },
    {
     "name": "stdout",
     "output_type": "stream",
     "text": [
      "Dataset name: airlines\n",
      "X_train.shape: (404537, 7), y_train.shape: (404537,);\n",
      "X_test.shape: (134846, 7), y_test.shape: (134846,)\n"
     ]
    }
   ],
   "source": [
    "from flaml.data import load_openml_dataset\n",
    "X_train, X_test, y_train, y_test = load_openml_dataset(dataset_id=1169, data_dir='./')"
   ]
  },
  {
   "cell_type": "code",
   "execution_count": 3,
   "metadata": {},
   "outputs": [
    {
     "data": {
      "text/html": [
       "<div>\n",
       "<style scoped>\n",
       "    .dataframe tbody tr th:only-of-type {\n",
       "        vertical-align: middle;\n",
       "    }\n",
       "\n",
       "    .dataframe tbody tr th {\n",
       "        vertical-align: top;\n",
       "    }\n",
       "\n",
       "    .dataframe thead th {\n",
       "        text-align: right;\n",
       "    }\n",
       "</style>\n",
       "<table border=\"1\" class=\"dataframe\">\n",
       "  <thead>\n",
       "    <tr style=\"text-align: right;\">\n",
       "      <th></th>\n",
       "      <th>Airline</th>\n",
       "      <th>Flight</th>\n",
       "      <th>AirportFrom</th>\n",
       "      <th>AirportTo</th>\n",
       "      <th>DayOfWeek</th>\n",
       "      <th>Time</th>\n",
       "      <th>Length</th>\n",
       "    </tr>\n",
       "  </thead>\n",
       "  <tbody>\n",
       "    <tr>\n",
       "      <th>249392</th>\n",
       "      <td>EV</td>\n",
       "      <td>5309.0</td>\n",
       "      <td>MDT</td>\n",
       "      <td>ATL</td>\n",
       "      <td>3</td>\n",
       "      <td>794.0</td>\n",
       "      <td>131.0</td>\n",
       "    </tr>\n",
       "    <tr>\n",
       "      <th>166918</th>\n",
       "      <td>CO</td>\n",
       "      <td>1079.0</td>\n",
       "      <td>IAH</td>\n",
       "      <td>SAT</td>\n",
       "      <td>5</td>\n",
       "      <td>900.0</td>\n",
       "      <td>60.0</td>\n",
       "    </tr>\n",
       "    <tr>\n",
       "      <th>89110</th>\n",
       "      <td>US</td>\n",
       "      <td>1636.0</td>\n",
       "      <td>CLE</td>\n",
       "      <td>CLT</td>\n",
       "      <td>1</td>\n",
       "      <td>530.0</td>\n",
       "      <td>103.0</td>\n",
       "    </tr>\n",
       "    <tr>\n",
       "      <th>70258</th>\n",
       "      <td>WN</td>\n",
       "      <td>928.0</td>\n",
       "      <td>CMH</td>\n",
       "      <td>LAS</td>\n",
       "      <td>7</td>\n",
       "      <td>480.0</td>\n",
       "      <td>280.0</td>\n",
       "    </tr>\n",
       "    <tr>\n",
       "      <th>492985</th>\n",
       "      <td>WN</td>\n",
       "      <td>729.0</td>\n",
       "      <td>GEG</td>\n",
       "      <td>LAS</td>\n",
       "      <td>3</td>\n",
       "      <td>630.0</td>\n",
       "      <td>140.0</td>\n",
       "    </tr>\n",
       "  </tbody>\n",
       "</table>\n",
       "</div>"
      ],
      "text/plain": [
       "       Airline  Flight AirportFrom AirportTo DayOfWeek   Time  Length\n",
       "249392      EV  5309.0         MDT       ATL         3  794.0   131.0\n",
       "166918      CO  1079.0         IAH       SAT         5  900.0    60.0\n",
       "89110       US  1636.0         CLE       CLT         1  530.0   103.0\n",
       "70258       WN   928.0         CMH       LAS         7  480.0   280.0\n",
       "492985      WN   729.0         GEG       LAS         3  630.0   140.0"
      ]
     },
     "execution_count": 3,
     "metadata": {},
     "output_type": "execute_result"
    }
   ],
   "source": [
    "X_train.head()"
   ]
  },
  {
   "cell_type": "code",
   "execution_count": 4,
   "metadata": {},
   "outputs": [
    {
     "name": "stdout",
     "output_type": "stream",
     "text": [
      "[flaml.automl.logger: 07-06 22:47:28] {1693} INFO - task = classification\n",
      "[flaml.automl.logger: 07-06 22:47:28] {1700} INFO - Data split method: stratified\n",
      "[flaml.automl.logger: 07-06 22:47:28] {1703} INFO - Evaluation method: holdout\n",
      "[flaml.automl.logger: 07-06 22:47:28] {1801} INFO - Minimizing error metric: 1-accuracy\n",
      "[flaml.automl.logger: 07-06 22:47:28] {1911} INFO - List of ML learners in AutoML Run: ['lgbm', 'rf', 'xgboost', 'extra_tree', 'xgb_limitdepth', 'lrl1']\n",
      "[flaml.automl.logger: 07-06 22:47:28] {2221} INFO - iteration 0, current learner lgbm\n",
      "[flaml.automl.logger: 07-06 22:47:31] {2347} INFO - Estimated sufficient time budget=973051s. Estimated necessary time budget=22429s.\n",
      "[flaml.automl.logger: 07-06 22:47:31] {2394} INFO -  at 3.3s,\testimator lgbm's best error=0.3777,\tbest estimator lgbm's best error=0.3777\n",
      "[flaml.automl.logger: 07-06 22:47:31] {2221} INFO - iteration 1, current learner lgbm\n",
      "[flaml.automl.logger: 07-06 22:47:33] {2394} INFO -  at 6.2s,\testimator lgbm's best error=0.3777,\tbest estimator lgbm's best error=0.3777\n",
      "[flaml.automl.logger: 07-06 22:47:33] {2221} INFO - iteration 2, current learner lgbm\n",
      "[flaml.automl.logger: 07-06 22:47:41] {2394} INFO -  at 13.6s,\testimator lgbm's best error=0.3686,\tbest estimator lgbm's best error=0.3686\n",
      "[flaml.automl.logger: 07-06 22:47:41] {2221} INFO - iteration 3, current learner xgboost\n"
     ]
    },
    {
     "name": "stderr",
     "output_type": "stream",
     "text": [
      "/home/howt51/work/vscode_micromamba/kaggle/flaml/.micromamba/envs/flaml/lib/python3.11/site-packages/xgboost/sklearn.py:1395: UserWarning: `use_label_encoder` is deprecated in 1.7.0.\n",
      "  warnings.warn(\"`use_label_encoder` is deprecated in 1.7.0.\")\n"
     ]
    },
    {
     "name": "stdout",
     "output_type": "stream",
     "text": [
      "[flaml.automl.logger: 07-06 22:47:43] {2394} INFO -  at 15.5s,\testimator xgboost's best error=0.3787,\tbest estimator lgbm's best error=0.3686\n",
      "[flaml.automl.logger: 07-06 22:47:43] {2221} INFO - iteration 4, current learner lgbm\n",
      "[flaml.automl.logger: 07-06 22:47:51] {2394} INFO -  at 23.2s,\testimator lgbm's best error=0.3679,\tbest estimator lgbm's best error=0.3679\n",
      "[flaml.automl.logger: 07-06 22:47:51] {2221} INFO - iteration 5, current learner xgboost\n"
     ]
    },
    {
     "name": "stderr",
     "output_type": "stream",
     "text": [
      "/home/howt51/work/vscode_micromamba/kaggle/flaml/.micromamba/envs/flaml/lib/python3.11/site-packages/xgboost/sklearn.py:1395: UserWarning: `use_label_encoder` is deprecated in 1.7.0.\n",
      "  warnings.warn(\"`use_label_encoder` is deprecated in 1.7.0.\")\n"
     ]
    },
    {
     "name": "stdout",
     "output_type": "stream",
     "text": [
      "[flaml.automl.logger: 07-06 22:47:54] {2394} INFO -  at 26.8s,\testimator xgboost's best error=0.3746,\tbest estimator lgbm's best error=0.3679\n",
      "[flaml.automl.logger: 07-06 22:47:54] {2221} INFO - iteration 6, current learner extra_tree\n",
      "[flaml.automl.logger: 07-06 22:47:54] {2394} INFO -  at 26.9s,\testimator extra_tree's best error=0.3787,\tbest estimator lgbm's best error=0.3679\n",
      "[flaml.automl.logger: 07-06 22:47:54] {2221} INFO - iteration 7, current learner extra_tree\n",
      "[flaml.automl.logger: 07-06 22:47:54] {2394} INFO -  at 26.9s,\testimator extra_tree's best error=0.3787,\tbest estimator lgbm's best error=0.3679\n",
      "[flaml.automl.logger: 07-06 22:47:54] {2221} INFO - iteration 8, current learner extra_tree\n",
      "[flaml.automl.logger: 07-06 22:47:54] {2394} INFO -  at 27.0s,\testimator extra_tree's best error=0.3787,\tbest estimator lgbm's best error=0.3679\n",
      "[flaml.automl.logger: 07-06 22:47:54] {2221} INFO - iteration 9, current learner rf\n",
      "[flaml.automl.logger: 07-06 22:47:54] {2394} INFO -  at 27.1s,\testimator rf's best error=0.3816,\tbest estimator lgbm's best error=0.3679\n",
      "[flaml.automl.logger: 07-06 22:47:54] {2221} INFO - iteration 10, current learner rf\n",
      "[flaml.automl.logger: 07-06 22:47:54] {2394} INFO -  at 27.2s,\testimator rf's best error=0.3791,\tbest estimator lgbm's best error=0.3679\n",
      "[flaml.automl.logger: 07-06 22:47:54] {2221} INFO - iteration 11, current learner rf\n",
      "[flaml.automl.logger: 07-06 22:47:55] {2394} INFO -  at 27.3s,\testimator rf's best error=0.3791,\tbest estimator lgbm's best error=0.3679\n",
      "[flaml.automl.logger: 07-06 22:47:55] {2221} INFO - iteration 12, current learner rf\n",
      "[flaml.automl.logger: 07-06 22:47:55] {2394} INFO -  at 27.3s,\testimator rf's best error=0.3791,\tbest estimator lgbm's best error=0.3679\n",
      "[flaml.automl.logger: 07-06 22:47:55] {2221} INFO - iteration 13, current learner rf\n",
      "[flaml.automl.logger: 07-06 22:47:55] {2394} INFO -  at 27.5s,\testimator rf's best error=0.3789,\tbest estimator lgbm's best error=0.3679\n",
      "[flaml.automl.logger: 07-06 22:47:55] {2221} INFO - iteration 14, current learner lgbm\n",
      "[flaml.automl.logger: 07-06 22:48:07] {2394} INFO -  at 39.5s,\testimator lgbm's best error=0.3679,\tbest estimator lgbm's best error=0.3679\n",
      "[flaml.automl.logger: 07-06 22:48:07] {2221} INFO - iteration 15, current learner xgboost\n"
     ]
    },
    {
     "name": "stderr",
     "output_type": "stream",
     "text": [
      "/home/howt51/work/vscode_micromamba/kaggle/flaml/.micromamba/envs/flaml/lib/python3.11/site-packages/xgboost/sklearn.py:1395: UserWarning: `use_label_encoder` is deprecated in 1.7.0.\n",
      "  warnings.warn(\"`use_label_encoder` is deprecated in 1.7.0.\")\n"
     ]
    },
    {
     "name": "stdout",
     "output_type": "stream",
     "text": [
      "[flaml.automl.logger: 07-06 22:48:14] {2394} INFO -  at 46.5s,\testimator xgboost's best error=0.3746,\tbest estimator lgbm's best error=0.3679\n",
      "[flaml.automl.logger: 07-06 22:48:14] {2221} INFO - iteration 16, current learner lgbm\n",
      "[flaml.automl.logger: 07-06 22:48:21] {2394} INFO -  at 53.3s,\testimator lgbm's best error=0.3679,\tbest estimator lgbm's best error=0.3679\n",
      "[flaml.automl.logger: 07-06 22:48:21] {2221} INFO - iteration 17, current learner extra_tree\n",
      "[flaml.automl.logger: 07-06 22:48:21] {2394} INFO -  at 53.6s,\testimator extra_tree's best error=0.3787,\tbest estimator lgbm's best error=0.3679\n",
      "[flaml.automl.logger: 07-06 22:48:21] {2221} INFO - iteration 18, current learner lgbm\n",
      "[flaml.automl.logger: 07-06 22:48:27] {2394} INFO -  at 59.8s,\testimator lgbm's best error=0.3617,\tbest estimator lgbm's best error=0.3617\n",
      "[flaml.automl.logger: 07-06 22:48:27] {2221} INFO - iteration 19, current learner rf\n",
      "[flaml.automl.logger: 07-06 22:48:27] {2394} INFO -  at 60.2s,\testimator rf's best error=0.3781,\tbest estimator lgbm's best error=0.3617\n",
      "[flaml.automl.logger: 07-06 22:48:27] {2221} INFO - iteration 20, current learner rf\n",
      "[flaml.automl.logger: 07-06 22:48:28] {2394} INFO -  at 60.6s,\testimator rf's best error=0.3781,\tbest estimator lgbm's best error=0.3617\n",
      "[flaml.automl.logger: 07-06 22:48:28] {2221} INFO - iteration 21, current learner rf\n",
      "[flaml.automl.logger: 07-06 22:48:28] {2394} INFO -  at 61.0s,\testimator rf's best error=0.3725,\tbest estimator lgbm's best error=0.3617\n",
      "[flaml.automl.logger: 07-06 22:48:28] {2221} INFO - iteration 22, current learner rf\n",
      "[flaml.automl.logger: 07-06 22:48:29] {2394} INFO -  at 61.4s,\testimator rf's best error=0.3725,\tbest estimator lgbm's best error=0.3617\n",
      "[flaml.automl.logger: 07-06 22:48:29] {2221} INFO - iteration 23, current learner rf\n",
      "[flaml.automl.logger: 07-06 22:48:29] {2394} INFO -  at 61.9s,\testimator rf's best error=0.3725,\tbest estimator lgbm's best error=0.3617\n",
      "[flaml.automl.logger: 07-06 22:48:29] {2221} INFO - iteration 24, current learner rf\n",
      "[flaml.automl.logger: 07-06 22:48:29] {2394} INFO -  at 62.1s,\testimator rf's best error=0.3706,\tbest estimator lgbm's best error=0.3617\n",
      "[flaml.automl.logger: 07-06 22:48:29] {2221} INFO - iteration 25, current learner extra_tree\n",
      "[flaml.automl.logger: 07-06 22:48:30] {2394} INFO -  at 62.4s,\testimator extra_tree's best error=0.3787,\tbest estimator lgbm's best error=0.3617\n",
      "[flaml.automl.logger: 07-06 22:48:30] {2221} INFO - iteration 26, current learner rf\n",
      "[flaml.automl.logger: 07-06 22:48:30] {2394} INFO -  at 62.5s,\testimator rf's best error=0.3706,\tbest estimator lgbm's best error=0.3617\n",
      "[flaml.automl.logger: 07-06 22:48:30] {2221} INFO - iteration 27, current learner rf\n",
      "[flaml.automl.logger: 07-06 22:48:30] {2394} INFO -  at 62.6s,\testimator rf's best error=0.3706,\tbest estimator lgbm's best error=0.3617\n",
      "[flaml.automl.logger: 07-06 22:48:30] {2221} INFO - iteration 28, current learner xgboost\n"
     ]
    },
    {
     "name": "stderr",
     "output_type": "stream",
     "text": [
      "/home/howt51/work/vscode_micromamba/kaggle/flaml/.micromamba/envs/flaml/lib/python3.11/site-packages/xgboost/sklearn.py:1395: UserWarning: `use_label_encoder` is deprecated in 1.7.0.\n",
      "  warnings.warn(\"`use_label_encoder` is deprecated in 1.7.0.\")\n"
     ]
    },
    {
     "name": "stdout",
     "output_type": "stream",
     "text": [
      "[flaml.automl.logger: 07-06 22:48:31] {2394} INFO -  at 63.5s,\testimator xgboost's best error=0.3724,\tbest estimator lgbm's best error=0.3617\n",
      "[flaml.automl.logger: 07-06 22:48:31] {2221} INFO - iteration 29, current learner xgboost\n"
     ]
    },
    {
     "name": "stderr",
     "output_type": "stream",
     "text": [
      "/home/howt51/work/vscode_micromamba/kaggle/flaml/.micromamba/envs/flaml/lib/python3.11/site-packages/xgboost/sklearn.py:1395: UserWarning: `use_label_encoder` is deprecated in 1.7.0.\n",
      "  warnings.warn(\"`use_label_encoder` is deprecated in 1.7.0.\")\n"
     ]
    },
    {
     "name": "stdout",
     "output_type": "stream",
     "text": [
      "[flaml.automl.logger: 07-06 22:48:31] {2394} INFO -  at 63.8s,\testimator xgboost's best error=0.3724,\tbest estimator lgbm's best error=0.3617\n",
      "[flaml.automl.logger: 07-06 22:48:31] {2221} INFO - iteration 30, current learner lgbm\n",
      "[flaml.automl.logger: 07-06 22:48:32] {2394} INFO -  at 64.3s,\testimator lgbm's best error=0.3617,\tbest estimator lgbm's best error=0.3617\n",
      "[flaml.automl.logger: 07-06 22:48:32] {2221} INFO - iteration 31, current learner lgbm\n",
      "[flaml.automl.logger: 07-06 22:48:32] {2394} INFO -  at 64.4s,\testimator lgbm's best error=0.3617,\tbest estimator lgbm's best error=0.3617\n",
      "[flaml.automl.logger: 07-06 22:48:32] {2221} INFO - iteration 32, current learner lgbm\n",
      "[flaml.automl.logger: 07-06 22:48:42] {2394} INFO -  at 75.2s,\testimator lgbm's best error=0.3617,\tbest estimator lgbm's best error=0.3617\n",
      "[flaml.automl.logger: 07-06 22:48:42] {2221} INFO - iteration 33, current learner rf\n",
      "[flaml.automl.logger: 07-06 22:48:43] {2394} INFO -  at 75.3s,\testimator rf's best error=0.3706,\tbest estimator lgbm's best error=0.3617\n",
      "[flaml.automl.logger: 07-06 22:48:43] {2221} INFO - iteration 34, current learner lgbm\n",
      "[flaml.automl.logger: 07-06 22:48:44] {2394} INFO -  at 76.5s,\testimator lgbm's best error=0.3617,\tbest estimator lgbm's best error=0.3617\n",
      "[flaml.automl.logger: 07-06 22:48:44] {2221} INFO - iteration 35, current learner rf\n",
      "[flaml.automl.logger: 07-06 22:48:44] {2394} INFO -  at 76.7s,\testimator rf's best error=0.3706,\tbest estimator lgbm's best error=0.3617\n",
      "[flaml.automl.logger: 07-06 22:48:44] {2221} INFO - iteration 36, current learner xgboost\n",
      "[flaml.automl.logger: 07-06 22:48:44] {2394} INFO -  at 76.8s,\testimator xgboost's best error=0.3669,\tbest estimator lgbm's best error=0.3617\n",
      "[flaml.automl.logger: 07-06 22:48:44] {2221} INFO - iteration 37, current learner xgboost\n"
     ]
    },
    {
     "name": "stderr",
     "output_type": "stream",
     "text": [
      "/home/howt51/work/vscode_micromamba/kaggle/flaml/.micromamba/envs/flaml/lib/python3.11/site-packages/xgboost/sklearn.py:1395: UserWarning: `use_label_encoder` is deprecated in 1.7.0.\n",
      "  warnings.warn(\"`use_label_encoder` is deprecated in 1.7.0.\")\n",
      "/home/howt51/work/vscode_micromamba/kaggle/flaml/.micromamba/envs/flaml/lib/python3.11/site-packages/xgboost/sklearn.py:1395: UserWarning: `use_label_encoder` is deprecated in 1.7.0.\n",
      "  warnings.warn(\"`use_label_encoder` is deprecated in 1.7.0.\")\n"
     ]
    },
    {
     "name": "stdout",
     "output_type": "stream",
     "text": [
      "[flaml.automl.logger: 07-06 22:48:45] {2394} INFO -  at 77.3s,\testimator xgboost's best error=0.3669,\tbest estimator lgbm's best error=0.3617\n",
      "[flaml.automl.logger: 07-06 22:48:45] {2221} INFO - iteration 38, current learner xgboost\n",
      "[flaml.automl.logger: 07-06 22:48:45] {2394} INFO -  at 77.4s,\testimator xgboost's best error=0.3641,\tbest estimator lgbm's best error=0.3617\n",
      "[flaml.automl.logger: 07-06 22:48:45] {2221} INFO - iteration 39, current learner xgboost\n"
     ]
    },
    {
     "name": "stderr",
     "output_type": "stream",
     "text": [
      "/home/howt51/work/vscode_micromamba/kaggle/flaml/.micromamba/envs/flaml/lib/python3.11/site-packages/xgboost/sklearn.py:1395: UserWarning: `use_label_encoder` is deprecated in 1.7.0.\n",
      "  warnings.warn(\"`use_label_encoder` is deprecated in 1.7.0.\")\n",
      "/home/howt51/work/vscode_micromamba/kaggle/flaml/.micromamba/envs/flaml/lib/python3.11/site-packages/xgboost/sklearn.py:1395: UserWarning: `use_label_encoder` is deprecated in 1.7.0.\n",
      "  warnings.warn(\"`use_label_encoder` is deprecated in 1.7.0.\")\n"
     ]
    },
    {
     "name": "stdout",
     "output_type": "stream",
     "text": [
      "[flaml.automl.logger: 07-06 22:48:45] {2394} INFO -  at 77.9s,\testimator xgboost's best error=0.3641,\tbest estimator lgbm's best error=0.3617\n",
      "[flaml.automl.logger: 07-06 22:48:45] {2221} INFO - iteration 40, current learner xgboost\n"
     ]
    },
    {
     "name": "stderr",
     "output_type": "stream",
     "text": [
      "/home/howt51/work/vscode_micromamba/kaggle/flaml/.micromamba/envs/flaml/lib/python3.11/site-packages/xgboost/sklearn.py:1395: UserWarning: `use_label_encoder` is deprecated in 1.7.0.\n",
      "  warnings.warn(\"`use_label_encoder` is deprecated in 1.7.0.\")\n"
     ]
    },
    {
     "name": "stdout",
     "output_type": "stream",
     "text": [
      "[flaml.automl.logger: 07-06 22:48:49] {2394} INFO -  at 81.8s,\testimator xgboost's best error=0.3636,\tbest estimator lgbm's best error=0.3617\n",
      "[flaml.automl.logger: 07-06 22:48:49] {2221} INFO - iteration 41, current learner xgboost\n",
      "[flaml.automl.logger: 07-06 22:48:49] {2394} INFO -  at 82.0s,\testimator xgboost's best error=0.3636,\tbest estimator lgbm's best error=0.3617\n",
      "[flaml.automl.logger: 07-06 22:48:49] {2221} INFO - iteration 42, current learner lgbm\n"
     ]
    },
    {
     "name": "stderr",
     "output_type": "stream",
     "text": [
      "/home/howt51/work/vscode_micromamba/kaggle/flaml/.micromamba/envs/flaml/lib/python3.11/site-packages/xgboost/sklearn.py:1395: UserWarning: `use_label_encoder` is deprecated in 1.7.0.\n",
      "  warnings.warn(\"`use_label_encoder` is deprecated in 1.7.0.\")\n"
     ]
    },
    {
     "name": "stdout",
     "output_type": "stream",
     "text": [
      "[flaml.automl.logger: 07-06 22:48:55] {2394} INFO -  at 87.4s,\testimator lgbm's best error=0.3617,\tbest estimator lgbm's best error=0.3617\n",
      "[flaml.automl.logger: 07-06 22:48:55] {2221} INFO - iteration 43, current learner rf\n",
      "[flaml.automl.logger: 07-06 22:48:55] {2394} INFO -  at 87.5s,\testimator rf's best error=0.3706,\tbest estimator lgbm's best error=0.3617\n",
      "[flaml.automl.logger: 07-06 22:48:55] {2221} INFO - iteration 44, current learner extra_tree\n",
      "[flaml.automl.logger: 07-06 22:48:55] {2394} INFO -  at 87.6s,\testimator extra_tree's best error=0.3786,\tbest estimator lgbm's best error=0.3617\n",
      "[flaml.automl.logger: 07-06 22:48:55] {2221} INFO - iteration 45, current learner rf\n",
      "[flaml.automl.logger: 07-06 22:48:55] {2394} INFO -  at 87.8s,\testimator rf's best error=0.3706,\tbest estimator lgbm's best error=0.3617\n",
      "[flaml.automl.logger: 07-06 22:48:55] {2221} INFO - iteration 46, current learner lgbm\n",
      "[flaml.automl.logger: 07-06 22:48:58] {2394} INFO -  at 90.8s,\testimator lgbm's best error=0.3617,\tbest estimator lgbm's best error=0.3617\n",
      "[flaml.automl.logger: 07-06 22:48:58] {2221} INFO - iteration 47, current learner xgboost\n"
     ]
    },
    {
     "name": "stderr",
     "output_type": "stream",
     "text": [
      "/home/howt51/work/vscode_micromamba/kaggle/flaml/.micromamba/envs/flaml/lib/python3.11/site-packages/xgboost/sklearn.py:1395: UserWarning: `use_label_encoder` is deprecated in 1.7.0.\n",
      "  warnings.warn(\"`use_label_encoder` is deprecated in 1.7.0.\")\n"
     ]
    },
    {
     "name": "stdout",
     "output_type": "stream",
     "text": [
      "[flaml.automl.logger: 07-06 22:49:22] {2394} INFO -  at 114.6s,\testimator xgboost's best error=0.3603,\tbest estimator xgboost's best error=0.3603\n",
      "[flaml.automl.logger: 07-06 22:49:22] {2221} INFO - iteration 48, current learner lgbm\n",
      "[flaml.automl.logger: 07-06 22:49:35] {2394} INFO -  at 127.7s,\testimator lgbm's best error=0.3617,\tbest estimator xgboost's best error=0.3603\n",
      "[flaml.automl.logger: 07-06 22:49:35] {2221} INFO - iteration 49, current learner rf\n",
      "[flaml.automl.logger: 07-06 22:49:35] {2394} INFO -  at 127.8s,\testimator rf's best error=0.3706,\tbest estimator xgboost's best error=0.3603\n",
      "[flaml.automl.logger: 07-06 22:49:35] {2221} INFO - iteration 50, current learner xgboost\n"
     ]
    },
    {
     "name": "stderr",
     "output_type": "stream",
     "text": [
      "/home/howt51/work/vscode_micromamba/kaggle/flaml/.micromamba/envs/flaml/lib/python3.11/site-packages/xgboost/sklearn.py:1395: UserWarning: `use_label_encoder` is deprecated in 1.7.0.\n",
      "  warnings.warn(\"`use_label_encoder` is deprecated in 1.7.0.\")\n"
     ]
    },
    {
     "name": "stdout",
     "output_type": "stream",
     "text": [
      "[flaml.automl.logger: 07-06 22:49:51] {2394} INFO -  at 143.2s,\testimator xgboost's best error=0.3603,\tbest estimator xgboost's best error=0.3603\n",
      "[flaml.automl.logger: 07-06 22:49:51] {2221} INFO - iteration 51, current learner lgbm\n",
      "[flaml.automl.logger: 07-06 22:50:11] {2394} INFO -  at 163.7s,\testimator lgbm's best error=0.3591,\tbest estimator lgbm's best error=0.3591\n",
      "[flaml.automl.logger: 07-06 22:50:11] {2221} INFO - iteration 52, current learner rf\n",
      "[flaml.automl.logger: 07-06 22:50:11] {2394} INFO -  at 164.2s,\testimator rf's best error=0.3687,\tbest estimator lgbm's best error=0.3591\n",
      "[flaml.automl.logger: 07-06 22:50:11] {2221} INFO - iteration 53, current learner lgbm\n",
      "[flaml.automl.logger: 07-06 22:50:34] {2394} INFO -  at 186.4s,\testimator lgbm's best error=0.3591,\tbest estimator lgbm's best error=0.3591\n",
      "[flaml.automl.logger: 07-06 22:50:34] {2221} INFO - iteration 54, current learner lgbm\n",
      "[flaml.automl.logger: 07-06 22:50:37] {2394} INFO -  at 190.2s,\testimator lgbm's best error=0.3591,\tbest estimator lgbm's best error=0.3591\n",
      "[flaml.automl.logger: 07-06 22:50:37] {2221} INFO - iteration 55, current learner rf\n",
      "[flaml.automl.logger: 07-06 22:50:38] {2394} INFO -  at 190.7s,\testimator rf's best error=0.3687,\tbest estimator lgbm's best error=0.3591\n",
      "[flaml.automl.logger: 07-06 22:50:38] {2221} INFO - iteration 56, current learner rf\n",
      "[flaml.automl.logger: 07-06 22:50:38] {2394} INFO -  at 191.1s,\testimator rf's best error=0.3687,\tbest estimator lgbm's best error=0.3591\n",
      "[flaml.automl.logger: 07-06 22:50:38] {2221} INFO - iteration 57, current learner rf\n",
      "[flaml.automl.logger: 07-06 22:50:38] {2394} INFO -  at 191.2s,\testimator rf's best error=0.3687,\tbest estimator lgbm's best error=0.3591\n",
      "[flaml.automl.logger: 07-06 22:50:38] {2221} INFO - iteration 58, current learner rf\n",
      "[flaml.automl.logger: 07-06 22:50:39] {2394} INFO -  at 191.4s,\testimator rf's best error=0.3685,\tbest estimator lgbm's best error=0.3591\n",
      "[flaml.automl.logger: 07-06 22:50:39] {2221} INFO - iteration 59, current learner lgbm\n",
      "[flaml.automl.logger: 07-06 22:51:18] {2394} INFO -  at 230.7s,\testimator lgbm's best error=0.3591,\tbest estimator lgbm's best error=0.3591\n",
      "[flaml.automl.logger: 07-06 22:51:18] {2221} INFO - iteration 60, current learner xgboost\n"
     ]
    },
    {
     "name": "stderr",
     "output_type": "stream",
     "text": [
      "/home/howt51/work/vscode_micromamba/kaggle/flaml/.micromamba/envs/flaml/lib/python3.11/site-packages/xgboost/sklearn.py:1395: UserWarning: `use_label_encoder` is deprecated in 1.7.0.\n",
      "  warnings.warn(\"`use_label_encoder` is deprecated in 1.7.0.\")\n"
     ]
    },
    {
     "name": "stdout",
     "output_type": "stream",
     "text": [
      "[flaml.automl.logger: 07-06 22:51:44] {2394} INFO -  at 257.2s,\testimator xgboost's best error=0.3603,\tbest estimator lgbm's best error=0.3591\n",
      "[flaml.automl.logger: 07-06 22:51:44] {2221} INFO - iteration 61, current learner lgbm\n",
      "[flaml.automl.logger: 07-06 22:51:48] {2394} INFO -  at 260.3s,\testimator lgbm's best error=0.3591,\tbest estimator lgbm's best error=0.3591\n",
      "[flaml.automl.logger: 07-06 22:51:48] {2221} INFO - iteration 62, current learner xgboost\n"
     ]
    },
    {
     "name": "stderr",
     "output_type": "stream",
     "text": [
      "/home/howt51/work/vscode_micromamba/kaggle/flaml/.micromamba/envs/flaml/lib/python3.11/site-packages/xgboost/sklearn.py:1395: UserWarning: `use_label_encoder` is deprecated in 1.7.0.\n",
      "  warnings.warn(\"`use_label_encoder` is deprecated in 1.7.0.\")\n"
     ]
    },
    {
     "name": "stdout",
     "output_type": "stream",
     "text": [
      "[flaml.automl.logger: 07-06 22:51:55] {2394} INFO -  at 268.2s,\testimator xgboost's best error=0.3603,\tbest estimator lgbm's best error=0.3591\n",
      "[flaml.automl.logger: 07-06 22:51:56] {2221} INFO - iteration 63, current learner xgboost\n"
     ]
    },
    {
     "name": "stderr",
     "output_type": "stream",
     "text": [
      "/home/howt51/work/vscode_micromamba/kaggle/flaml/.micromamba/envs/flaml/lib/python3.11/site-packages/xgboost/sklearn.py:1395: UserWarning: `use_label_encoder` is deprecated in 1.7.0.\n",
      "  warnings.warn(\"`use_label_encoder` is deprecated in 1.7.0.\")\n"
     ]
    },
    {
     "name": "stdout",
     "output_type": "stream",
     "text": [
      "[flaml.automl.logger: 07-06 22:52:15] {2394} INFO -  at 287.3s,\testimator xgboost's best error=0.3577,\tbest estimator xgboost's best error=0.3577\n",
      "[flaml.automl.logger: 07-06 22:52:15] {2221} INFO - iteration 64, current learner lgbm\n",
      "[flaml.automl.logger: 07-06 22:52:27] {2394} INFO -  at 300.0s,\testimator lgbm's best error=0.3591,\tbest estimator xgboost's best error=0.3577\n",
      "[flaml.automl.logger: 07-06 22:52:27] {2221} INFO - iteration 65, current learner rf\n",
      "[flaml.automl.logger: 07-06 22:52:28] {2394} INFO -  at 300.4s,\testimator rf's best error=0.3685,\tbest estimator xgboost's best error=0.3577\n",
      "[flaml.automl.logger: 07-06 22:52:28] {2221} INFO - iteration 66, current learner xgboost\n"
     ]
    },
    {
     "name": "stderr",
     "output_type": "stream",
     "text": [
      "/home/howt51/work/vscode_micromamba/kaggle/flaml/.micromamba/envs/flaml/lib/python3.11/site-packages/xgboost/sklearn.py:1395: UserWarning: `use_label_encoder` is deprecated in 1.7.0.\n",
      "  warnings.warn(\"`use_label_encoder` is deprecated in 1.7.0.\")\n"
     ]
    },
    {
     "name": "stdout",
     "output_type": "stream",
     "text": [
      "[flaml.automl.logger: 07-06 22:52:52] {2394} INFO -  at 324.4s,\testimator xgboost's best error=0.3577,\tbest estimator xgboost's best error=0.3577\n",
      "[flaml.automl.logger: 07-06 22:52:52] {2221} INFO - iteration 67, current learner rf\n",
      "[flaml.automl.logger: 07-06 22:52:52] {2394} INFO -  at 325.1s,\testimator rf's best error=0.3602,\tbest estimator xgboost's best error=0.3577\n",
      "[flaml.automl.logger: 07-06 22:52:52] {2221} INFO - iteration 68, current learner rf\n",
      "[flaml.automl.logger: 07-06 22:52:53] {2394} INFO -  at 325.6s,\testimator rf's best error=0.3602,\tbest estimator xgboost's best error=0.3577\n",
      "[flaml.automl.logger: 07-06 22:52:53] {2221} INFO - iteration 69, current learner rf\n",
      "[flaml.automl.logger: 07-06 22:52:54] {2394} INFO -  at 326.2s,\testimator rf's best error=0.3602,\tbest estimator xgboost's best error=0.3577\n",
      "[flaml.automl.logger: 07-06 22:52:54] {2221} INFO - iteration 70, current learner rf\n",
      "[flaml.automl.logger: 07-06 22:52:54] {2394} INFO -  at 326.8s,\testimator rf's best error=0.3602,\tbest estimator xgboost's best error=0.3577\n",
      "[flaml.automl.logger: 07-06 22:52:54] {2221} INFO - iteration 71, current learner rf\n",
      "[flaml.automl.logger: 07-06 22:52:55] {2394} INFO -  at 327.5s,\testimator rf's best error=0.3602,\tbest estimator xgboost's best error=0.3577\n",
      "[flaml.automl.logger: 07-06 22:52:55] {2221} INFO - iteration 72, current learner rf\n",
      "[flaml.automl.logger: 07-06 22:52:56] {2394} INFO -  at 328.8s,\testimator rf's best error=0.3602,\tbest estimator xgboost's best error=0.3577\n",
      "[flaml.automl.logger: 07-06 22:52:56] {2221} INFO - iteration 73, current learner rf\n",
      "[flaml.automl.logger: 07-06 22:52:58] {2394} INFO -  at 330.3s,\testimator rf's best error=0.3588,\tbest estimator xgboost's best error=0.3577\n",
      "[flaml.automl.logger: 07-06 22:52:58] {2221} INFO - iteration 74, current learner xgboost\n"
     ]
    },
    {
     "name": "stderr",
     "output_type": "stream",
     "text": [
      "/home/howt51/work/vscode_micromamba/kaggle/flaml/.micromamba/envs/flaml/lib/python3.11/site-packages/xgboost/sklearn.py:1395: UserWarning: `use_label_encoder` is deprecated in 1.7.0.\n",
      "  warnings.warn(\"`use_label_encoder` is deprecated in 1.7.0.\")\n"
     ]
    },
    {
     "name": "stdout",
     "output_type": "stream",
     "text": [
      "[flaml.automl.logger: 07-06 22:53:08] {2394} INFO -  at 341.0s,\testimator xgboost's best error=0.3577,\tbest estimator xgboost's best error=0.3577\n",
      "[flaml.automl.logger: 07-06 22:53:08] {2221} INFO - iteration 75, current learner rf\n",
      "[flaml.automl.logger: 07-06 22:53:10] {2394} INFO -  at 342.6s,\testimator rf's best error=0.3530,\tbest estimator rf's best error=0.3530\n",
      "[flaml.automl.logger: 07-06 22:53:10] {2221} INFO - iteration 76, current learner rf\n",
      "[flaml.automl.logger: 07-06 22:53:11] {2394} INFO -  at 343.7s,\testimator rf's best error=0.3530,\tbest estimator rf's best error=0.3530\n",
      "[flaml.automl.logger: 07-06 22:53:11] {2221} INFO - iteration 77, current learner rf\n",
      "[flaml.automl.logger: 07-06 22:53:13] {2394} INFO -  at 345.7s,\testimator rf's best error=0.3530,\tbest estimator rf's best error=0.3530\n",
      "[flaml.automl.logger: 07-06 22:53:13] {2221} INFO - iteration 78, current learner rf\n",
      "[flaml.automl.logger: 07-06 22:53:14] {2394} INFO -  at 347.2s,\testimator rf's best error=0.3527,\tbest estimator rf's best error=0.3527\n",
      "[flaml.automl.logger: 07-06 22:53:14] {2221} INFO - iteration 79, current learner rf\n",
      "[flaml.automl.logger: 07-06 22:53:18] {2394} INFO -  at 351.0s,\testimator rf's best error=0.3527,\tbest estimator rf's best error=0.3527\n",
      "[flaml.automl.logger: 07-06 22:53:18] {2221} INFO - iteration 80, current learner rf\n",
      "[flaml.automl.logger: 07-06 22:53:19] {2394} INFO -  at 351.8s,\testimator rf's best error=0.3527,\tbest estimator rf's best error=0.3527\n",
      "[flaml.automl.logger: 07-06 22:53:19] {2221} INFO - iteration 81, current learner rf\n",
      "[flaml.automl.logger: 07-06 22:53:21] {2394} INFO -  at 353.3s,\testimator rf's best error=0.3527,\tbest estimator rf's best error=0.3527\n",
      "[flaml.automl.logger: 07-06 22:53:21] {2221} INFO - iteration 82, current learner rf\n",
      "[flaml.automl.logger: 07-06 22:53:28] {2394} INFO -  at 361.2s,\testimator rf's best error=0.3458,\tbest estimator rf's best error=0.3458\n",
      "[flaml.automl.logger: 07-06 22:53:28] {2221} INFO - iteration 83, current learner rf\n",
      "[flaml.automl.logger: 07-06 22:53:40] {2394} INFO -  at 372.7s,\testimator rf's best error=0.3437,\tbest estimator rf's best error=0.3437\n",
      "[flaml.automl.logger: 07-06 22:53:40] {2221} INFO - iteration 84, current learner rf\n",
      "[flaml.automl.logger: 07-06 22:53:56] {2394} INFO -  at 388.3s,\testimator rf's best error=0.3437,\tbest estimator rf's best error=0.3437\n",
      "[flaml.automl.logger: 07-06 22:53:56] {2221} INFO - iteration 85, current learner rf\n",
      "[flaml.automl.logger: 07-06 22:54:04] {2394} INFO -  at 396.9s,\testimator rf's best error=0.3340,\tbest estimator rf's best error=0.3340\n",
      "[flaml.automl.logger: 07-06 22:54:04] {2221} INFO - iteration 86, current learner rf\n",
      "[flaml.automl.logger: 07-06 22:54:13] {2394} INFO -  at 405.6s,\testimator rf's best error=0.3340,\tbest estimator rf's best error=0.3340\n",
      "[flaml.automl.logger: 07-06 22:54:13] {2221} INFO - iteration 87, current learner rf\n",
      "[flaml.automl.logger: 07-06 22:54:19] {2394} INFO -  at 411.8s,\testimator rf's best error=0.3340,\tbest estimator rf's best error=0.3340\n",
      "[flaml.automl.logger: 07-06 22:54:19] {2221} INFO - iteration 88, current learner rf\n",
      "[flaml.automl.logger: 07-06 22:54:27] {2394} INFO -  at 419.9s,\testimator rf's best error=0.3340,\tbest estimator rf's best error=0.3340\n",
      "[flaml.automl.logger: 07-06 22:54:27] {2221} INFO - iteration 89, current learner rf\n",
      "[flaml.automl.logger: 07-06 22:54:35] {2394} INFO -  at 428.2s,\testimator rf's best error=0.3340,\tbest estimator rf's best error=0.3340\n",
      "[flaml.automl.logger: 07-06 22:54:35] {2221} INFO - iteration 90, current learner rf\n",
      "[flaml.automl.logger: 07-06 22:54:40] {2394} INFO -  at 433.0s,\testimator rf's best error=0.3340,\tbest estimator rf's best error=0.3340\n",
      "[flaml.automl.logger: 07-06 22:54:40] {2221} INFO - iteration 91, current learner rf\n",
      "[flaml.automl.logger: 07-06 22:54:47] {2394} INFO -  at 439.8s,\testimator rf's best error=0.3340,\tbest estimator rf's best error=0.3340\n",
      "[flaml.automl.logger: 07-06 22:54:47] {2221} INFO - iteration 92, current learner rf\n",
      "[flaml.automl.logger: 07-06 22:54:52] {2394} INFO -  at 445.1s,\testimator rf's best error=0.3336,\tbest estimator rf's best error=0.3336\n",
      "[flaml.automl.logger: 07-06 22:54:52] {2221} INFO - iteration 93, current learner rf\n",
      "[flaml.automl.logger: 07-06 22:54:55] {2394} INFO -  at 448.2s,\testimator rf's best error=0.3336,\tbest estimator rf's best error=0.3336\n",
      "[flaml.automl.logger: 07-06 22:54:55] {2221} INFO - iteration 94, current learner rf\n",
      "[flaml.automl.logger: 07-06 22:55:01] {2394} INFO -  at 453.5s,\testimator rf's best error=0.3336,\tbest estimator rf's best error=0.3336\n",
      "[flaml.automl.logger: 07-06 22:55:01] {2221} INFO - iteration 95, current learner rf\n",
      "[flaml.automl.logger: 07-06 22:55:09] {2394} INFO -  at 462.1s,\testimator rf's best error=0.3336,\tbest estimator rf's best error=0.3336\n",
      "[flaml.automl.logger: 07-06 22:55:09] {2221} INFO - iteration 96, current learner rf\n",
      "[flaml.automl.logger: 07-06 22:55:14] {2394} INFO -  at 466.9s,\testimator rf's best error=0.3336,\tbest estimator rf's best error=0.3336\n",
      "[flaml.automl.logger: 07-06 22:55:14] {2221} INFO - iteration 97, current learner rf\n",
      "[flaml.automl.logger: 07-06 22:55:22] {2394} INFO -  at 475.0s,\testimator rf's best error=0.3336,\tbest estimator rf's best error=0.3336\n",
      "[flaml.automl.logger: 07-06 22:55:22] {2221} INFO - iteration 98, current learner rf\n",
      "[flaml.automl.logger: 07-06 22:55:26] {2394} INFO -  at 479.1s,\testimator rf's best error=0.3336,\tbest estimator rf's best error=0.3336\n",
      "[flaml.automl.logger: 07-06 22:55:26] {2221} INFO - iteration 99, current learner rf\n",
      "[flaml.automl.logger: 07-06 22:55:30] {2394} INFO -  at 483.0s,\testimator rf's best error=0.3336,\tbest estimator rf's best error=0.3336\n",
      "[flaml.automl.logger: 07-06 22:55:30] {2221} INFO - iteration 100, current learner rf\n",
      "[flaml.automl.logger: 07-06 22:55:35] {2394} INFO -  at 488.1s,\testimator rf's best error=0.3336,\tbest estimator rf's best error=0.3336\n",
      "[flaml.automl.logger: 07-06 22:55:35] {2221} INFO - iteration 101, current learner rf\n",
      "[flaml.automl.logger: 07-06 22:55:40] {2394} INFO -  at 492.8s,\testimator rf's best error=0.3336,\tbest estimator rf's best error=0.3336\n",
      "[flaml.automl.logger: 07-06 22:55:40] {2221} INFO - iteration 102, current learner lgbm\n",
      "[flaml.automl.logger: 07-06 22:55:44] {2394} INFO -  at 496.5s,\testimator lgbm's best error=0.3591,\tbest estimator rf's best error=0.3336\n",
      "[flaml.automl.logger: 07-06 22:55:44] {2221} INFO - iteration 103, current learner rf\n",
      "[flaml.automl.logger: 07-06 22:55:51] {2394} INFO -  at 503.8s,\testimator rf's best error=0.3336,\tbest estimator rf's best error=0.3336\n",
      "[flaml.automl.logger: 07-06 22:55:51] {2221} INFO - iteration 104, current learner rf\n",
      "[flaml.automl.logger: 07-06 22:55:55] {2394} INFO -  at 507.9s,\testimator rf's best error=0.3336,\tbest estimator rf's best error=0.3336\n",
      "[flaml.automl.logger: 07-06 22:55:55] {2221} INFO - iteration 105, current learner rf\n",
      "[flaml.automl.logger: 07-06 22:56:02] {2394} INFO -  at 515.1s,\testimator rf's best error=0.3336,\tbest estimator rf's best error=0.3336\n",
      "[flaml.automl.logger: 07-06 22:56:02] {2221} INFO - iteration 106, current learner rf\n",
      "[flaml.automl.logger: 07-06 22:56:12] {2394} INFO -  at 524.2s,\testimator rf's best error=0.3336,\tbest estimator rf's best error=0.3336\n",
      "[flaml.automl.logger: 07-06 22:56:12] {2221} INFO - iteration 107, current learner rf\n",
      "[flaml.automl.logger: 07-06 22:56:14] {2394} INFO -  at 527.1s,\testimator rf's best error=0.3336,\tbest estimator rf's best error=0.3336\n",
      "[flaml.automl.logger: 07-06 22:56:14] {2221} INFO - iteration 108, current learner rf\n",
      "[flaml.automl.logger: 07-06 22:56:18] {2394} INFO -  at 530.7s,\testimator rf's best error=0.3336,\tbest estimator rf's best error=0.3336\n",
      "[flaml.automl.logger: 07-06 22:56:18] {2221} INFO - iteration 109, current learner rf\n",
      "[flaml.automl.logger: 07-06 22:56:24] {2394} INFO -  at 536.8s,\testimator rf's best error=0.3331,\tbest estimator rf's best error=0.3331\n",
      "[flaml.automl.logger: 07-06 22:56:24] {2221} INFO - iteration 110, current learner lgbm\n",
      "[flaml.automl.logger: 07-06 22:57:25] {2394} INFO -  at 598.0s,\testimator lgbm's best error=0.3528,\tbest estimator rf's best error=0.3331\n",
      "[flaml.automl.logger: 07-06 22:57:25] {2221} INFO - iteration 111, current learner xgb_limitdepth\n"
     ]
    },
    {
     "name": "stderr",
     "output_type": "stream",
     "text": [
      "/home/howt51/work/vscode_micromamba/kaggle/flaml/.micromamba/envs/flaml/lib/python3.11/site-packages/xgboost/sklearn.py:1395: UserWarning: `use_label_encoder` is deprecated in 1.7.0.\n",
      "  warnings.warn(\"`use_label_encoder` is deprecated in 1.7.0.\")\n"
     ]
    },
    {
     "name": "stdout",
     "output_type": "stream",
     "text": [
      "[flaml.automl.logger: 07-06 22:57:27] {2394} INFO -  at 599.2s,\testimator xgb_limitdepth's best error=0.3719,\tbest estimator rf's best error=0.3331\n",
      "[flaml.automl.logger: 07-06 22:57:27] {2221} INFO - iteration 112, current learner lrl1\n"
     ]
    },
    {
     "name": "stderr",
     "output_type": "stream",
     "text": [
      "INFO:flaml.tune.searcher.blendsearch:No low-cost partial config given to the search algorithm. For cost-frugal search, consider providing low-cost values for cost-related hps via 'low_cost_partial_config'. More info can be found at https://microsoft.github.io/FLAML/docs/FAQ#about-low_cost_partial_config-in-tune\n"
     ]
    },
    {
     "name": "stdout",
     "output_type": "stream",
     "text": [
      "[flaml.automl.logger: 07-06 22:57:27] {2394} INFO -  at 599.7s,\testimator lrl1's best error=0.4339,\tbest estimator rf's best error=0.3331\n",
      "[flaml.automl.logger: 07-06 22:57:27] {2221} INFO - iteration 113, current learner extra_tree\n",
      "[flaml.automl.logger: 07-06 22:57:27] {2394} INFO -  at 599.8s,\testimator extra_tree's best error=0.3786,\tbest estimator rf's best error=0.3331\n",
      "[flaml.automl.logger: 07-06 22:57:27] {2221} INFO - iteration 114, current learner extra_tree\n"
     ]
    },
    {
     "name": "stderr",
     "output_type": "stream",
     "text": [
      "/home/howt51/work/vscode_micromamba/kaggle/flaml/.micromamba/envs/flaml/lib/python3.11/site-packages/sklearn/linear_model/_sag.py:350: ConvergenceWarning: The max_iter was reached which means the coef_ did not converge\n",
      "  warnings.warn(\n"
     ]
    },
    {
     "name": "stdout",
     "output_type": "stream",
     "text": [
      "[flaml.automl.logger: 07-06 22:57:27] {2394} INFO -  at 599.9s,\testimator extra_tree's best error=0.3786,\tbest estimator rf's best error=0.3331\n",
      "[flaml.automl.logger: 07-06 22:57:27] {2221} INFO - iteration 115, current learner extra_tree\n",
      "[flaml.automl.logger: 07-06 22:57:27] {2394} INFO -  at 599.9s,\testimator extra_tree's best error=0.3786,\tbest estimator rf's best error=0.3331\n",
      "[flaml.automl.logger: 07-06 22:57:35] {2630} INFO - retrain rf for 7.6s\n",
      "[flaml.automl.logger: 07-06 22:57:35] {2633} INFO - retrained model: RandomForestClassifier(max_features=0.5313150618349426, max_leaf_nodes=4547,\n",
      "                       n_estimators=17, n_jobs=-1, random_state=12032022)\n",
      "[flaml.automl.logger: 07-06 22:57:35] {1941} INFO - fit succeeded\n",
      "[flaml.automl.logger: 07-06 22:57:35] {1942} INFO - Time taken to find the best model: 536.8370840549469\n"
     ]
    }
   ],
   "source": [
    "# ''' import AutoML class from flaml package '''\n",
    "from flaml import AutoML\n",
    "automl = AutoML()\n",
    "settings = {\n",
    "    \"time_budget\": 600,  # total running time in seconds\n",
    "    \"metric\": 'accuracy', \n",
    "                        # check the documentation for options of metrics (https://microsoft.github.io/FLAML/docs/Use-Cases/Task-Oriented-AutoML#optimization-metric)\n",
    "    \"task\": 'classification',  # task type\n",
    "    \"log_file_name\": 'airlines_experiment.log',  # flaml log file\n",
    "    \"seed\": 7654321,    # random seed\n",
    "}\n",
    "# '''The main flaml automl API'''\n",
    "automl.fit(X_train=X_train, y_train=y_train, **settings)"
   ]
  },
  {
   "cell_type": "code",
   "execution_count": 5,
   "metadata": {},
   "outputs": [
    {
     "name": "stdout",
     "output_type": "stream",
     "text": [
      "Best ML leaner: rf\n",
      "Best hyperparmeter config: {'n_estimators': 17, 'max_features': 0.5313150618349426, 'max_leaves': 4547, 'criterion': 'gini'}\n",
      "Best accuracy on validation data: 0.6669\n",
      "Training duration of best run: 7.585 s\n"
     ]
    }
   ],
   "source": [
    "'''retrieve best config and best learner'''\n",
    "print('Best ML leaner:', automl.best_estimator)\n",
    "print('Best hyperparmeter config:', automl.best_config)\n",
    "print('Best accuracy on validation data: {0:.4g}'.format(1-automl.best_loss))\n",
    "print('Training duration of best run: {0:.4g} s'.format(automl.best_config_train_time))"
   ]
  },
  {
   "cell_type": "code",
   "execution_count": 6,
   "metadata": {},
   "outputs": [
    {
     "data": {
      "text/html": [
       "<style>#sk-container-id-1 {color: black;}#sk-container-id-1 pre{padding: 0;}#sk-container-id-1 div.sk-toggleable {background-color: white;}#sk-container-id-1 label.sk-toggleable__label {cursor: pointer;display: block;width: 100%;margin-bottom: 0;padding: 0.3em;box-sizing: border-box;text-align: center;}#sk-container-id-1 label.sk-toggleable__label-arrow:before {content: \"▸\";float: left;margin-right: 0.25em;color: #696969;}#sk-container-id-1 label.sk-toggleable__label-arrow:hover:before {color: black;}#sk-container-id-1 div.sk-estimator:hover label.sk-toggleable__label-arrow:before {color: black;}#sk-container-id-1 div.sk-toggleable__content {max-height: 0;max-width: 0;overflow: hidden;text-align: left;background-color: #f0f8ff;}#sk-container-id-1 div.sk-toggleable__content pre {margin: 0.2em;color: black;border-radius: 0.25em;background-color: #f0f8ff;}#sk-container-id-1 input.sk-toggleable__control:checked~div.sk-toggleable__content {max-height: 200px;max-width: 100%;overflow: auto;}#sk-container-id-1 input.sk-toggleable__control:checked~label.sk-toggleable__label-arrow:before {content: \"▾\";}#sk-container-id-1 div.sk-estimator input.sk-toggleable__control:checked~label.sk-toggleable__label {background-color: #d4ebff;}#sk-container-id-1 div.sk-label input.sk-toggleable__control:checked~label.sk-toggleable__label {background-color: #d4ebff;}#sk-container-id-1 input.sk-hidden--visually {border: 0;clip: rect(1px 1px 1px 1px);clip: rect(1px, 1px, 1px, 1px);height: 1px;margin: -1px;overflow: hidden;padding: 0;position: absolute;width: 1px;}#sk-container-id-1 div.sk-estimator {font-family: monospace;background-color: #f0f8ff;border: 1px dotted black;border-radius: 0.25em;box-sizing: border-box;margin-bottom: 0.5em;}#sk-container-id-1 div.sk-estimator:hover {background-color: #d4ebff;}#sk-container-id-1 div.sk-parallel-item::after {content: \"\";width: 100%;border-bottom: 1px solid gray;flex-grow: 1;}#sk-container-id-1 div.sk-label:hover label.sk-toggleable__label {background-color: #d4ebff;}#sk-container-id-1 div.sk-serial::before {content: \"\";position: absolute;border-left: 1px solid gray;box-sizing: border-box;top: 0;bottom: 0;left: 50%;z-index: 0;}#sk-container-id-1 div.sk-serial {display: flex;flex-direction: column;align-items: center;background-color: white;padding-right: 0.2em;padding-left: 0.2em;position: relative;}#sk-container-id-1 div.sk-item {position: relative;z-index: 1;}#sk-container-id-1 div.sk-parallel {display: flex;align-items: stretch;justify-content: center;background-color: white;position: relative;}#sk-container-id-1 div.sk-item::before, #sk-container-id-1 div.sk-parallel-item::before {content: \"\";position: absolute;border-left: 1px solid gray;box-sizing: border-box;top: 0;bottom: 0;left: 50%;z-index: -1;}#sk-container-id-1 div.sk-parallel-item {display: flex;flex-direction: column;z-index: 1;position: relative;background-color: white;}#sk-container-id-1 div.sk-parallel-item:first-child::after {align-self: flex-end;width: 50%;}#sk-container-id-1 div.sk-parallel-item:last-child::after {align-self: flex-start;width: 50%;}#sk-container-id-1 div.sk-parallel-item:only-child::after {width: 0;}#sk-container-id-1 div.sk-dashed-wrapped {border: 1px dashed gray;margin: 0 0.4em 0.5em 0.4em;box-sizing: border-box;padding-bottom: 0.4em;background-color: white;}#sk-container-id-1 div.sk-label label {font-family: monospace;font-weight: bold;display: inline-block;line-height: 1.2em;}#sk-container-id-1 div.sk-label-container {text-align: center;}#sk-container-id-1 div.sk-container {/* jupyter's `normalize.less` sets `[hidden] { display: none; }` but bootstrap.min.css set `[hidden] { display: none !important; }` so we also need the `!important` here to be able to override the default hidden behavior on the sphinx rendered scikit-learn.org. See: https://github.com/scikit-learn/scikit-learn/issues/21755 */display: inline-block !important;position: relative;}#sk-container-id-1 div.sk-text-repr-fallback {display: none;}</style><div id=\"sk-container-id-1\" class=\"sk-top-container\"><div class=\"sk-text-repr-fallback\"><pre>RandomForestClassifier(max_features=0.5313150618349426, max_leaf_nodes=4547,\n",
       "                       n_estimators=17, n_jobs=-1, random_state=12032022)</pre><b>In a Jupyter environment, please rerun this cell to show the HTML representation or trust the notebook. <br />On GitHub, the HTML representation is unable to render, please try loading this page with nbviewer.org.</b></div><div class=\"sk-container\" hidden><div class=\"sk-item\"><div class=\"sk-estimator sk-toggleable\"><input class=\"sk-toggleable__control sk-hidden--visually\" id=\"sk-estimator-id-1\" type=\"checkbox\" checked><label for=\"sk-estimator-id-1\" class=\"sk-toggleable__label sk-toggleable__label-arrow\">RandomForestClassifier</label><div class=\"sk-toggleable__content\"><pre>RandomForestClassifier(max_features=0.5313150618349426, max_leaf_nodes=4547,\n",
       "                       n_estimators=17, n_jobs=-1, random_state=12032022)</pre></div></div></div></div></div>"
      ],
      "text/plain": [
       "RandomForestClassifier(max_features=0.5313150618349426, max_leaf_nodes=4547,\n",
       "                       n_estimators=17, n_jobs=-1, random_state=12032022)"
      ]
     },
     "execution_count": 6,
     "metadata": {},
     "output_type": "execute_result"
    }
   ],
   "source": [
    "automl.model.estimator"
   ]
  },
  {
   "cell_type": "code",
   "execution_count": null,
   "metadata": {},
   "outputs": [],
   "source": [
    "'''pickle and save the automl object'''\n",
    "import pickle\n",
    "with open('automl.pkl', 'wb') as f:\n",
    "    pickle.dump(automl, f, pickle.HIGHEST_PROTOCOL)\n",
    "'''load pickled automl object'''\n",
    "with open('automl.pkl', 'rb') as f:\n",
    "    automl = pickle.load(f)"
   ]
  },
  {
   "cell_type": "code",
   "execution_count": 7,
   "metadata": {},
   "outputs": [
    {
     "name": "stdout",
     "output_type": "stream",
     "text": [
      "Predicted labels ['1' '0' '1' ... '1' '0' '0']\n",
      "True labels 118331    0\n",
      "328182    0\n",
      "335454    0\n",
      "520591    1\n",
      "344651    0\n",
      "         ..\n",
      "367080    0\n",
      "203510    1\n",
      "254894    0\n",
      "296512    1\n",
      "362444    0\n",
      "Name: Delay, Length: 134846, dtype: category\n",
      "Categories (2, object): ['0' < '1']\n"
     ]
    }
   ],
   "source": [
    "'''compute predictions of testing dataset''' \n",
    "y_pred = automl.predict(X_test)\n",
    "print('Predicted labels', y_pred)\n",
    "print('True labels', y_test)\n",
    "y_pred_proba = automl.predict_proba(X_test)[:,1]"
   ]
  },
  {
   "cell_type": "code",
   "execution_count": 8,
   "metadata": {},
   "outputs": [
    {
     "name": "stdout",
     "output_type": "stream",
     "text": [
      "accuracy = 0.6689037865416846\n",
      "roc_auc = 0.7213332684921397\n",
      "log_loss = 0.6061975059208521\n"
     ]
    }
   ],
   "source": [
    "''' compute different metric values on testing dataset'''\n",
    "from flaml.ml import sklearn_metric_loss_score\n",
    "print('accuracy', '=', 1 - sklearn_metric_loss_score('accuracy', y_pred, y_test))\n",
    "print('roc_auc', '=', 1 - sklearn_metric_loss_score('roc_auc', y_pred_proba, y_test))\n",
    "print('log_loss', '=', sklearn_metric_loss_score('log_loss', y_pred_proba, y_test))"
   ]
  },
  {
   "cell_type": "code",
   "execution_count": 9,
   "metadata": {},
   "outputs": [
    {
     "name": "stdout",
     "output_type": "stream",
     "text": [
      "{'Current Learner': 'lgbm', 'Current Sample': 10000, 'Current Hyper-parameters': {'n_estimators': 4, 'num_leaves': 4, 'min_child_samples': 20, 'learning_rate': 0.09999999999999995, 'log_max_bin': 8, 'colsample_bytree': 1.0, 'reg_alpha': 0.0009765625, 'reg_lambda': 1.0, 'FLAML_sample_size': 10000}, 'Best Learner': 'lgbm', 'Best Hyper-parameters': {'n_estimators': 4, 'num_leaves': 4, 'min_child_samples': 20, 'learning_rate': 0.09999999999999995, 'log_max_bin': 8, 'colsample_bytree': 1.0, 'reg_alpha': 0.0009765625, 'reg_lambda': 1.0, 'FLAML_sample_size': 10000}}\n",
      "{'Current Learner': 'lgbm', 'Current Sample': 10000, 'Current Hyper-parameters': {'n_estimators': 26, 'num_leaves': 4, 'min_child_samples': 18, 'learning_rate': 0.2293009676418639, 'log_max_bin': 9, 'colsample_bytree': 0.9086551727646448, 'reg_alpha': 0.0015561782752413472, 'reg_lambda': 0.33127416269768944, 'FLAML_sample_size': 10000}, 'Best Learner': 'lgbm', 'Best Hyper-parameters': {'n_estimators': 26, 'num_leaves': 4, 'min_child_samples': 18, 'learning_rate': 0.2293009676418639, 'log_max_bin': 9, 'colsample_bytree': 0.9086551727646448, 'reg_alpha': 0.0015561782752413472, 'reg_lambda': 0.33127416269768944, 'FLAML_sample_size': 10000}}\n",
      "{'Current Learner': 'lgbm', 'Current Sample': 10000, 'Current Hyper-parameters': {'n_estimators': 34, 'num_leaves': 23, 'min_child_samples': 17, 'learning_rate': 0.32352862101602586, 'log_max_bin': 10, 'colsample_bytree': 0.8801327898366843, 'reg_alpha': 0.004475520554844502, 'reg_lambda': 0.033081571878574946, 'FLAML_sample_size': 10000}, 'Best Learner': 'lgbm', 'Best Hyper-parameters': {'n_estimators': 34, 'num_leaves': 23, 'min_child_samples': 17, 'learning_rate': 0.32352862101602586, 'log_max_bin': 10, 'colsample_bytree': 0.8801327898366843, 'reg_alpha': 0.004475520554844502, 'reg_lambda': 0.033081571878574946, 'FLAML_sample_size': 10000}}\n",
      "{'Current Learner': 'lgbm', 'Current Sample': 10000, 'Current Hyper-parameters': {'n_estimators': 16, 'num_leaves': 50, 'min_child_samples': 15, 'learning_rate': 0.16993973077695726, 'log_max_bin': 9, 'colsample_bytree': 0.9839320865386645, 'reg_alpha': 0.07281450092972358, 'reg_lambda': 0.04762616953634948, 'FLAML_sample_size': 10000}, 'Best Learner': 'lgbm', 'Best Hyper-parameters': {'n_estimators': 16, 'num_leaves': 50, 'min_child_samples': 15, 'learning_rate': 0.16993973077695726, 'log_max_bin': 9, 'colsample_bytree': 0.9839320865386645, 'reg_alpha': 0.07281450092972358, 'reg_lambda': 0.04762616953634948, 'FLAML_sample_size': 10000}}\n",
      "{'Current Learner': 'xgboost', 'Current Sample': 40000, 'Current Hyper-parameters': {'n_estimators': 18, 'max_leaves': 35, 'min_child_weight': 0.17187627900048477, 'learning_rate': 0.060638274942360085, 'subsample': 0.8293280353504378, 'colsample_bylevel': 1.0, 'colsample_bytree': 0.7416071104632546, 'reg_alpha': 0.47238600236164685, 'reg_lambda': 55.27704157313088, 'FLAML_sample_size': 40000}, 'Best Learner': 'xgboost', 'Best Hyper-parameters': {'n_estimators': 18, 'max_leaves': 35, 'min_child_weight': 0.17187627900048477, 'learning_rate': 0.060638274942360085, 'subsample': 0.8293280353504378, 'colsample_bylevel': 1.0, 'colsample_bytree': 0.7416071104632546, 'reg_alpha': 0.47238600236164685, 'reg_lambda': 55.27704157313088, 'FLAML_sample_size': 40000}}\n",
      "{'Current Learner': 'lgbm', 'Current Sample': 40000, 'Current Hyper-parameters': {'n_estimators': 16, 'num_leaves': 50, 'min_child_samples': 15, 'learning_rate': 0.16993973077695726, 'log_max_bin': 9, 'colsample_bytree': 0.9839320865386645, 'reg_alpha': 0.07281450092972358, 'reg_lambda': 0.04762616953634948, 'FLAML_sample_size': 40000}, 'Best Learner': 'lgbm', 'Best Hyper-parameters': {'n_estimators': 16, 'num_leaves': 50, 'min_child_samples': 15, 'learning_rate': 0.16993973077695726, 'log_max_bin': 9, 'colsample_bytree': 0.9839320865386645, 'reg_alpha': 0.07281450092972358, 'reg_lambda': 0.04762616953634948, 'FLAML_sample_size': 40000}}\n"
     ]
    },
    {
     "ename": "",
     "evalue": "",
     "output_type": "error",
     "traceback": [
      "\u001b[1;31mThe Kernel crashed while executing code in the the current cell or a previous cell. Please review the code in the cell(s) to identify a possible cause of the failure. Click <a href='https://aka.ms/vscodeJupyterKernelCrash'>here</a> for more info. View Jupyter <a href='command:jupyter.viewOutput'>log</a> for further details."
     ]
    }
   ],
   "source": [
    "from flaml.data import get_output_from_log\n",
    "time_history, best_valid_loss_history, valid_loss_history, config_history, metric_history = \\\n",
    "    get_output_from_log(filename=settings['log_file_name'], time_budget=240)\n",
    "for config in config_history:\n",
    "    print(config)"
   ]
  },
  {
   "cell_type": "code",
   "execution_count": null,
   "metadata": {},
   "outputs": [],
   "source": []
  }
 ],
 "metadata": {
  "kernelspec": {
   "display_name": "Python 3",
   "language": "python",
   "name": "python3"
  },
  "language_info": {
   "codemirror_mode": {
    "name": "ipython",
    "version": 3
   },
   "file_extension": ".py",
   "mimetype": "text/x-python",
   "name": "python",
   "nbconvert_exporter": "python",
   "pygments_lexer": "ipython3",
   "version": "3.11.4"
  },
  "orig_nbformat": 4
 },
 "nbformat": 4,
 "nbformat_minor": 2
}
